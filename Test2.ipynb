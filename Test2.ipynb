{
 "cells": [
  {
   "cell_type": "code",
   "execution_count": 1,
   "id": "6a30e309-6a1e-45c7-affd-94c6d196598f",
   "metadata": {},
   "outputs": [],
   "source": [
    "import cv2\n",
    "import numpy as np\n",
    "from pythonRLSA import rlsa\n",
    "import math\n",
    "import pytesseract\n",
    "from PIL import Image"
   ]
  },
  {
   "cell_type": "code",
   "execution_count": 17,
   "id": "1b6cc658-a214-4504-97ec-3a0440d0f997",
   "metadata": {},
   "outputs": [],
   "source": [
    "image = cv2.imread('./../newsImages/20220308.jpg') #reading the image\n",
    "gray = cv2.cvtColor(image, cv2.COLOR_BGR2GRAY) # converting to grayscale image\n",
    "(thresh, im_bw) = cv2.threshold(gray, 150, 255, cv2.THRESH_BINARY | cv2.THRESH_OTSU) # converting to binary image\n",
    "\n"
   ]
  },
  {
   "cell_type": "code",
   "execution_count": 18,
   "id": "1475b3d7-9a66-4a1e-901c-b1be8df5abc8",
   "metadata": {},
   "outputs": [],
   "source": [
    "cv2.imshow('First', im_bw)\n",
    "cv2.waitKey(0)\n",
    "cv2.destroyAllWindows()"
   ]
  },
  {
   "cell_type": "code",
   "execution_count": 27,
   "id": "c491478f-a734-4827-a274-028bce799e58",
   "metadata": {},
   "outputs": [],
   "source": [
    "mask = np.ones(image.shape[:2], dtype=\"uint8\") * 255"
   ]
  },
  {
   "cell_type": "code",
   "execution_count": 34,
   "id": "9688f88f-f7b0-47d4-9fc2-83e0448d45da",
   "metadata": {},
   "outputs": [],
   "source": [
    "contours = cv2.findContours(~im_bw,cv2.RETR_EXTERNAL,cv2.CHAIN_APPROX_SIMPLE)[0] # find contours\n",
    "areas = [cv2.contourArea(c) for c in contours if cv2.contourArea(c) != 0] # find area of contour\n",
    "avgArea = sum(areas)/len(areas) # finding average area\n",
    "for c in contours:# average area heuristics\n",
    "    if cv2.contourArea(c)>10*avgArea:\n",
    "        [x,y,w,h] = cv2.boundingRect(c)\n",
    "        cv2.rectangle(mask, (x,y), (x+w, y+h), (0,0,0),-1)\n",
    "        #cv2.drawContours(mask, [c], -1, 0, -1)\n",
    "without_img = im_bw - ~mask\n",
    "#binary = cv2.bitwise_and(im_bw, im_bw, mask=mask) # subtracting the noise"
   ]
  },
  {
   "cell_type": "code",
   "execution_count": 25,
   "id": "57d0c26b-14e0-47b7-8a6e-093204fee4d2",
   "metadata": {},
   "outputs": [],
   "source": [
    "cv2.imshow('mask', mask)\n",
    "cv2.waitKey(0)\n",
    "cv2.destroyAllWindows()"
   ]
  },
  {
   "cell_type": "code",
   "execution_count": 36,
   "id": "c78a0819-2ae1-4869-9bde-90c9c11de564",
   "metadata": {},
   "outputs": [],
   "source": [
    "cv2.imshow('without_img', without_img)\n",
    "cv2.waitKey(0)\n",
    "cv2.destroyAllWindows()"
   ]
  },
  {
   "cell_type": "code",
   "execution_count": 41,
   "id": "edfb52ab-5a4c-4ba4-a884-e573ae2f816f",
   "metadata": {},
   "outputs": [
    {
     "name": "stdout",
     "output_type": "stream",
     "text": [
      "182.40306391970418\n"
     ]
    }
   ],
   "source": [
    "print(avgArea)"
   ]
  },
  {
   "cell_type": "code",
   "execution_count": null,
   "id": "9e480eaa-a1ee-4a24-a239-f38431b60325",
   "metadata": {},
   "outputs": [],
   "source": [
    "for contour in contours:\n",
    "    \"\"\"\n",
    "    draw a rectangle around those contours on main image\n",
    "    \"\"\"\n",
    "    [x,y,w,h] = cv2.boundingRect(contour)\n",
    "    cv2.rectangle(image, (x,y), (x+w,y+h), (0, 255, 0), 1)"
   ]
  },
  {
   "cell_type": "code",
   "execution_count": 32,
   "id": "fe19862e-b810-430b-b18d-c822e3fdc96e",
   "metadata": {},
   "outputs": [
    {
     "name": "stdout",
     "output_type": "stream",
     "text": [
      "4.449208575435785\n"
     ]
    }
   ],
   "source": [
    "mask = np.ones(image.shape[:2], dtype=\"uint8\") * 255 # create blank image of same dimension of the original image\n",
    "contours = cv2.findContours(~binary,cv2.RETR_EXTERNAL,cv2.CHAIN_APPROX_SIMPLE)[0]\n",
    "heights = [cv2.boundingRect(contour)[3] for contour in contours] # collecting heights of each contour\n",
    "avgheight = sum(heights)/len(heights) # average height\n",
    "print(avgheight)\n",
    "# finding the larger text\n",
    "for c in contours:\n",
    "    [x,y,w,h] = cv2.boundingRect(c)\n",
    "    if h > 6*avgheight:\n",
    "        cv2.drawContours(mask, [c], -1, 0, -1)\n",
    "\n",
    "\n",
    "\n"
   ]
  },
  {
   "cell_type": "code",
   "execution_count": null,
   "id": "31d087d2-6615-4847-8825-b7023ad310eb",
   "metadata": {},
   "outputs": [],
   "source": [
    "cv2.imshow('test', mask)\n",
    "cv2.waitKey(0)\n",
    "cv2.destroyAllWindows()"
   ]
  },
  {
   "cell_type": "code",
   "execution_count": null,
   "id": "89c69a07-7575-42c4-91f2-cc032c1c6f57",
   "metadata": {},
   "outputs": [],
   "source": [
    "cv2.destroyAllWindows()"
   ]
  },
  {
   "cell_type": "code",
   "execution_count": null,
   "id": "88ab300a-95f0-446a-8efb-0735362fc549",
   "metadata": {},
   "outputs": [],
   "source": [
    "x, y = mask.shape # image dimensions\n",
    "\n",
    "value = max(math.ceil(x/100),math.ceil(y/100))+20\n",
    "mask = rlsa.rlsa(mask, True, False, value) #rlsa application\n",
    "\n",
    "cv2.imshow('mask1', mask)\n",
    "\n",
    "contours = cv2.findContours(~mask,cv2.RETR_EXTERNAL,cv2.CHAIN_APPROX_SIMPLE)[0]\n",
    "\n",
    "mask2 = np.ones(image.shape, dtype=\"uint8\") * 255 # blank 3 layer image\n",
    "for contour in contours:\n",
    "    [x, y, w, h] = cv2.boundingRect(contour)\n",
    "    if w > 0.60*image.shape[1]:# width heuristic applied\n",
    "        title = image[y: y+h, x: x+w] \n",
    "        mask2[y: y+h, x: x+w] = title # copied title contour onto the blank image\n",
    "        image[y: y+h, x: x+w] = 255 # nullified the title contour on original image\n",
    "\n",
    "title = pytesseract.image_to_string(Image.fromarray(mask2))\n",
    "content = pytesseract.image_to_string(Image.fromarray(image))\n",
    "\n",
    "print('title - {0}, content - {1}'.format(title, content))"
   ]
  },
  {
   "cell_type": "code",
   "execution_count": null,
   "id": "87d1ec71-32be-44da-9631-b8749ecfc03d",
   "metadata": {},
   "outputs": [],
   "source": []
  },
  {
   "cell_type": "code",
   "execution_count": 6,
   "id": "be2bd30e-dc65-4a90-9849-bf4219b745b6",
   "metadata": {},
   "outputs": [],
   "source": [
    "cv2.imshow('mask', mask)\n",
    "cv2.waitKey(0)\n",
    "cv2.destroyAllWindows()"
   ]
  },
  {
   "cell_type": "code",
   "execution_count": 9,
   "id": "f1fdfdf3-0c37-4f23-879e-2fa9f2121133",
   "metadata": {},
   "outputs": [],
   "source": [
    "cv2.destroyAllWindows()"
   ]
  },
  {
   "cell_type": "code",
   "execution_count": null,
   "id": "154da9a5-e71a-4e07-bb11-333bf912d038",
   "metadata": {},
   "outputs": [],
   "source": []
  }
 ],
 "metadata": {
  "kernelspec": {
   "display_name": "Python 3 (ipykernel)",
   "language": "python",
   "name": "python3"
  },
  "language_info": {
   "codemirror_mode": {
    "name": "ipython",
    "version": 3
   },
   "file_extension": ".py",
   "mimetype": "text/x-python",
   "name": "python",
   "nbconvert_exporter": "python",
   "pygments_lexer": "ipython3",
   "version": "3.9.2"
  }
 },
 "nbformat": 4,
 "nbformat_minor": 5
}
