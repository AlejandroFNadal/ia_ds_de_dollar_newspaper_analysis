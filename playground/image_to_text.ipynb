{
 "cells": [
  {
   "cell_type": "markdown",
   "id": "41c4eecb-d6ae-4c2e-a10f-67cdf6e23601",
   "metadata": {},
   "source": [
    "# Transforming single title image to text"
   ]
  },
  {
   "cell_type": "code",
   "execution_count": 2,
   "id": "97a1c8e9-a041-4313-b384-df78226da35c",
   "metadata": {},
   "outputs": [],
   "source": [
    "import pytesseract\n",
    "from PIL import Image\n",
    "import os\n",
    "from unidecode import unidecode\n",
    "from tqdm import tqdm\n",
    "from wordcloud import WordCloud"
   ]
  },
  {
   "cell_type": "code",
   "execution_count": 3,
   "id": "0b2d22ce-416c-4be6-aa4e-cd316618ef1d",
   "metadata": {},
   "outputs": [],
   "source": [
    "def image_to_text(image_path):\n",
    "    img = Image.open(image_path)\n",
    "    text_from_image = pytesseract.image_to_string(img)\n",
    "    return text_from_image"
   ]
  },
  {
   "cell_type": "code",
   "execution_count": 4,
   "id": "3fe3f8bb-be7a-4c17-93ee-d85d5ed7a6d2",
   "metadata": {},
   "outputs": [],
   "source": [
    "#import stopwords and take out the tildes\n",
    "stopword_file = open('stopwords_sp.txt','r')\n",
    "stopwords = []\n",
    "for line in stopword_file:\n",
    "    stopwords.append(unidecode(line[:-1]))"
   ]
  },
  {
   "cell_type": "code",
   "execution_count": 16,
   "id": "1fd2a80e-db99-4a8d-9844-71069863b156",
   "metadata": {},
   "outputs": [],
   "source": [
    "years = [i for i in range(2017,2021)]"
   ]
  },
  {
   "cell_type": "code",
   "execution_count": 11,
   "id": "04db29f9-b4e1-4f7d-9b6d-fdbb6dcf4890",
   "metadata": {},
   "outputs": [
    {
     "data": {
      "text/plain": [
       "['2000',\n",
       " '2001',\n",
       " '2002',\n",
       " '2003',\n",
       " '2004',\n",
       " '2005',\n",
       " '2006',\n",
       " '2007',\n",
       " '2008',\n",
       " '2009',\n",
       " '2010',\n",
       " '2011',\n",
       " '2012',\n",
       " '2013',\n",
       " '2014',\n",
       " '2015',\n",
       " '2016',\n",
       " '2017',\n",
       " '2018',\n",
       " '2019',\n",
       " '2020',\n",
       " '2021',\n",
       " '2022']"
      ]
     },
     "execution_count": 11,
     "metadata": {},
     "output_type": "execute_result"
    }
   ],
   "source": [
    "#sorted(os.listdir(f'./OutputImages'))\n",
    "test=sorted(os.listdir(f'./OutputImages'))\n",
    "test.pop(0)\n",
    "test"
   ]
  },
  {
   "cell_type": "code",
   "execution_count": 17,
   "id": "301b954c-d97b-4baa-916b-b7ad0359b247",
   "metadata": {},
   "outputs": [
    {
     "name": "stdout",
     "output_type": "stream",
     "text": [
      "./OutputImages/2017\n"
     ]
    },
    {
     "name": "stderr",
     "output_type": "stream",
     "text": [
      "100%|████████████████████████████████████████████████████████████████████████████████████████████████████████████████████████████████████| 359/359 [02:05<00:00,  2.87it/s]\n"
     ]
    },
    {
     "name": "stdout",
     "output_type": "stream",
     "text": [
      "./OutputImages/2018\n"
     ]
    },
    {
     "name": "stderr",
     "output_type": "stream",
     "text": [
      "100%|████████████████████████████████████████████████████████████████████████████████████████████████████████████████████████████████████| 359/359 [01:57<00:00,  3.06it/s]\n"
     ]
    },
    {
     "name": "stdout",
     "output_type": "stream",
     "text": [
      "./OutputImages/2019\n"
     ]
    },
    {
     "name": "stderr",
     "output_type": "stream",
     "text": [
      "100%|████████████████████████████████████████████████████████████████████████████████████████████████████████████████████████████████████| 358/358 [02:00<00:00,  2.96it/s]\n"
     ]
    },
    {
     "name": "stdout",
     "output_type": "stream",
     "text": [
      "./OutputImages/2020\n"
     ]
    },
    {
     "name": "stderr",
     "output_type": "stream",
     "text": [
      "100%|████████████████████████████████████████████████████████████████████████████████████████████████████████████████████████████████████| 359/359 [01:43<00:00,  3.46it/s]\n"
     ]
    },
    {
     "name": "stdout",
     "output_type": "stream",
     "text": [
      "16051\n"
     ]
    },
    {
     "data": {
      "text/plain": [
       "<wordcloud.wordcloud.WordCloud at 0x7f41bc25c880>"
      ]
     },
     "execution_count": 17,
     "metadata": {},
     "output_type": "execute_result"
    }
   ],
   "source": [
    "# run over all images, output to a json file\n",
    "\n",
    "#day_words = {}\n",
    "\n",
    "for year in years:\n",
    "    text_string=''\n",
    "    print(f'./OutputImages/{year}')\n",
    "    image_list = sorted(os.listdir(f'./OutputImages/{year}'))\n",
    "    image_list.pop(0)\n",
    "    for image in tqdm(image_list):\n",
    "        path = f\"./OutputImages/{year}/{image}\"\n",
    "        if os.path.isfile(path):\n",
    "            text = image_to_text(path)\n",
    "            if len(text) > 104:\n",
    "                continue\n",
    "            # remove '\\n' from text\n",
    "            text = text.replace('\\n',' ')\n",
    "            #remove casing\n",
    "            text = text.lower()\n",
    "            # remove tildes\n",
    "            text = unidecode(text)\n",
    "            date = image[6:] #eliminate word \"title\"  in the beginning\n",
    "            #day_words[date] = text\n",
    "            text_string +=(f' {text} \\n')\n",
    "file = open(f'./{year}.txt','w')\n",
    "file.write(text_string)\n",
    "file.close()\n",
    "# Generate a word cloud image\n",
    "print(len(text_string))\n",
    "wordcloud = WordCloud(stopwords = stopwords, width=1000, height=1000, max_words=25, background_color='white').generate(text_string)\n",
    "# The pil way (if you don't have matplotlib)\n",
    "image = wordcloud.to_image()\n",
    "image.show()\n",
    "wordcloud.to_file(f'./{years[0]}_{years[-1]}.png')"
   ]
  },
  {
   "cell_type": "code",
   "execution_count": null,
   "id": "a87fa917-268c-43bd-b95a-4071fa60c3d0",
   "metadata": {},
   "outputs": [],
   "source": []
  },
  {
   "cell_type": "code",
   "execution_count": 34,
   "id": "7fc3b716-76d4-4dda-a678-65a7395e776b",
   "metadata": {},
   "outputs": [
    {
     "data": {
      "text/plain": [
       "' boca arranco con un gran triunfo ante independient   al fin, hubo acuerdo sobre la reforma labora   \"estamos sacando al pals del borde del abismo\"   erman salio del gobierno ocho veces mas rico   proniben salir de pais a alderete: sera indagado     senales de apoyo en e pj a la reforma laboral   respaldo empresario a la reforma laboral   cuestionan el pedido de captura de ex represores   viachinea aseguro que se termino la recesion   los ministros tendrian el poder de anular contratos   racing y boca, un empate que da para la polemica   ruckauf busca que la policia recupere poder   diputados aprobo la reforma sin los votos del pj   purga en la side despidieron a 1.000 agentes   brasil: la peor tragedia con turistas argentinos   el efecto 2000 tampoco se noto en los bancos   de la rua le recorto 250 millones a la rioja   caso cabezas: duhalde apunta otra vez a yabran     comenzaran a clonar vacas en la argentina   cada vez hay mas delitos y menos condenas   ei fiscal dijo que yabran ordeno matar a cabezas   una fuerza especial va a combatir el contrabando   le sacaron a la cgt el manejo de 360 millones   renegociaran en el pami todos los contratos medicos   ei socialista lagos gano el ballottage y presidira chile   los casos de wiaria julla y atc van a la justicia   polemica por la edad jubilatoria de las mujeres   oficial: las tablas para el pago de ganancias   de la rua impuso reglas eticas a sus funcionarios   reforma laboral: acercamiento de la alianza y el pj   de la rua quiere rapido la ley de emergencia fiscal   ei fondo presiona por un ajuste alin mas duro   ei robo violento no sera excarcelable en buenos aires   empezo ia pelea en el congreso por la reforma laboral   trabajadores esclavos mas de mil en capital   ei gobierno freno la suba de combustibles   viachinea dijo que esta asegurado un acuerdo con el fmi   lanzan una accion para poner preso a alderete   despues de tanto pelear, ahora beliz y cavallo van juntos  en, enn sen an en eee ae   fractura sindical: la cgt levanto el paro   aumentaran la edad de la mujer para jubilarse   ei fondo exige un ajuste muy fuerte en las provincias   ruckauf acusa a la alianza por la ley de seguridad   baja de tarifas y creditos baratos para las pymes\"   otro escandalo con maradona en el sanatorio   fracaso un intento de acuerdo del gobierno y la cgt   acuerdo con el fmi: en 3 anos, 7.400 millones   finalmente, habra moratoria para deudas con la dgi   paivii: alderete dejo una deuda de 1.478 millones   ahora la cgt busca negociar la reforma laboral   pagaran en bonos ia deuda con los jubilados   la violencia en el futbol produjo una nueva victima   denunciaron a maria julia por defraudacion   el aumento a los maestros se pagara en cuotas  '"
      ]
     },
     "execution_count": 34,
     "metadata": {},
     "output_type": "execute_result"
    }
   ],
   "source": [
    "text_string"
   ]
  },
  {
   "cell_type": "code",
   "execution_count": 35,
   "id": "5d19dd5a-94a1-4d1a-8b02-b6ccbd01bc5b",
   "metadata": {},
   "outputs": [],
   "source": []
  },
  {
   "cell_type": "code",
   "execution_count": 58,
   "id": "c6fbbcfd-e6f8-4a75-bfe8-f2bba4354844",
   "metadata": {},
   "outputs": [],
   "source": []
  },
  {
   "cell_type": "code",
   "execution_count": 59,
   "id": "40baaa8e-6391-4b81-86ac-660f72418861",
   "metadata": {},
   "outputs": [],
   "source": []
  },
  {
   "cell_type": "code",
   "execution_count": 60,
   "id": "9bc2642d-1574-4380-976d-f452b7f9db26",
   "metadata": {},
   "outputs": [],
   "source": []
  },
  {
   "cell_type": "code",
   "execution_count": null,
   "id": "6020df58-bfd3-4ed0-9312-073802ccb1b3",
   "metadata": {},
   "outputs": [],
   "source": []
  }
 ],
 "metadata": {
  "kernelspec": {
   "display_name": "Python 3 (ipykernel)",
   "language": "python",
   "name": "python3"
  },
  "language_info": {
   "codemirror_mode": {
    "name": "ipython",
    "version": 3
   },
   "file_extension": ".py",
   "mimetype": "text/x-python",
   "name": "python",
   "nbconvert_exporter": "python",
   "pygments_lexer": "ipython3",
   "version": "3.9.2"
  }
 },
 "nbformat": 4,
 "nbformat_minor": 5
}
